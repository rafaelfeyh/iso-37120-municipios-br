{
  "nbformat": 4,
  "nbformat_minor": 0,
  "metadata": {
    "colab": {
      "name": "iso-37120-municipios-br.ipynb",
      "provenance": [],
      "collapsed_sections": [],
      "toc_visible": true,
      "authorship_tag": "ABX9TyOHA/l9O9qIGQnHJe1Z5Cbx",
      "include_colab_link": true
    },
    "kernelspec": {
      "name": "python3",
      "display_name": "Python 3"
    }
  },
  "cells": [
    {
      "cell_type": "markdown",
      "metadata": {
        "id": "view-in-github",
        "colab_type": "text"
      },
      "source": [
        "<a href=\"https://colab.research.google.com/github/rafaelfeyh/iso-37120-municipios-br/blob/main/iso_37120_municipios_br.ipynb\" target=\"_parent\"><img src=\"https://colab.research.google.com/assets/colab-badge.svg\" alt=\"Open In Colab\"/></a>"
      ]
    },
    {
      "cell_type": "markdown",
      "metadata": {
        "id": "Zpra4OYTgsKA"
      },
      "source": [
        "# **Introdução**"
      ]
    },
    {
      "cell_type": "markdown",
      "metadata": {
        "id": "AQZzEzSWk92j"
      },
      "source": [
        "Este material é parte integrante de artigo apresentado como requisito parcial para a obtenção do título de Especialista em Big Data, Data Science e Data Analytics, pelo curso de Pós-Graduação Lato Sensu em Big Data, Data Science e Data Analytics da Universidade do Vale do Rio dos Sinos – UNISINOS.\n",
        "\n",
        "**Autor:** Rafael Feyh\n",
        "\n",
        "**Artigo:** Análise da Prontidão e Aplicabilidade da NBR ISO 37120:2017 nos Municípios de Montenegro e Sapiranga\n",
        "\n",
        "**Resumo:** \n",
        "\n",
        "**Ano:** 2020\n"
      ]
    },
    {
      "cell_type": "markdown",
      "metadata": {
        "id": "ZBl6RHI0g9S-"
      },
      "source": [
        "---\n",
        "# **Validação e Classificação**"
      ]
    },
    {
      "cell_type": "markdown",
      "metadata": {
        "id": "mJ20c3AiOyxO"
      },
      "source": [
        "###Bibliotecas"
      ]
    },
    {
      "cell_type": "code",
      "metadata": {
        "id": "TkWe9X_qOfnJ"
      },
      "source": [
        "import pandas as pd\n",
        "import numpy as np\n",
        "import glob\n",
        "from google.colab import files\n",
        "from google.colab import drive\n",
        "\n",
        "pd.options.display.float_format = '{:.2f}'.format"
      ],
      "execution_count": 25,
      "outputs": []
    },
    {
      "cell_type": "markdown",
      "metadata": {
        "id": "e_jYUsYqPHai"
      },
      "source": [
        "###Carregando CSVs a serem utilizados"
      ]
    },
    {
      "cell_type": "code",
      "metadata": {
        "id": "lO4Kv9ylPIMq"
      },
      "source": [
        "# Opção que permite selecionar no computador quais arquivos serão utilizados,\n",
        "# pode-se escolher mais de um.\n",
        "# uploaded = files.upload()"
      ],
      "execution_count": 26,
      "outputs": []
    },
    {
      "cell_type": "code",
      "metadata": {
        "id": "oXenoycAPrvj",
        "outputId": "0656fce8-f6cf-4582-ccd7-15052e537829",
        "colab": {
          "base_uri": "https://localhost:8080/"
        }
      },
      "source": [
        "# Opção que conecta diretamente ao seu Google Drive\n",
        "# Conectando ao Google drive\n",
        "drive.mount('/content/gdrive')\n",
        "# Criando lista somente com os arquivos CSV.\n",
        "arquivos_csv = [i for i in glob.glob('/content/gdrive/My Drive/dados_ISO/*.{}'.format('csv'))]"
      ],
      "execution_count": 27,
      "outputs": [
        {
          "output_type": "stream",
          "text": [
            "Drive already mounted at /content/gdrive; to attempt to forcibly remount, call drive.mount(\"/content/gdrive\", force_remount=True).\n"
          ],
          "name": "stdout"
        }
      ]
    },
    {
      "cell_type": "code",
      "metadata": {
        "id": "rLN7eV-xkzwv",
        "outputId": "6fe13816-d97e-48ab-ce6d-0582827aa757",
        "colab": {
          "base_uri": "https://localhost:8080/"
        }
      },
      "source": [
        "print('----Lista de CSVs carregados -----------------')\n",
        "for file in arquivos_csv:\n",
        "    print('\"{name}\"'.format(name=file))\n",
        "print('----------------------------------------------')"
      ],
      "execution_count": 28,
      "outputs": [
        {
          "output_type": "stream",
          "text": [
            "----Lista de CSVs carregados -----------------\n",
            "\"/content/gdrive/My Drive/dados_ISO/finbra-despesas-2019.csv\"\n",
            "\"/content/gdrive/My Drive/dados_ISO/finbra-receitas-2019.csv\"\n",
            "\"/content/gdrive/My Drive/dados_ISO/finbra-despesas-2018.csv\"\n",
            "\"/content/gdrive/My Drive/dados_ISO/finbra-despesas-2017.csv\"\n",
            "\"/content/gdrive/My Drive/dados_ISO/finbra-receitas-2017.csv\"\n",
            "\"/content/gdrive/My Drive/dados_ISO/finbra-receitas-2018.csv\"\n",
            "\"/content/gdrive/My Drive/dados_ISO/finbra-despesas-2016.csv\"\n",
            "\"/content/gdrive/My Drive/dados_ISO/finbra-receitas-2016.csv\"\n",
            "\"/content/gdrive/My Drive/dados_ISO/finbra-receitas-2015.csv\"\n",
            "\"/content/gdrive/My Drive/dados_ISO/finbra-despesas-2015.csv\"\n",
            "\"/content/gdrive/My Drive/dados_ISO/indicadores_iso.csv\"\n",
            "----------------------------------------------\n"
          ],
          "name": "stdout"
        }
      ]
    },
    {
      "cell_type": "markdown",
      "metadata": {
        "id": "EL2BHn49QbQd"
      },
      "source": [
        "###Validando e Classificando os datasets\n",
        "\n"
      ]
    },
    {
      "cell_type": "markdown",
      "metadata": {
        "id": "ke-eGrUOuZkn"
      },
      "source": [
        "Criando dataset para armazenar os CSVs válidos"
      ]
    },
    {
      "cell_type": "code",
      "metadata": {
        "id": "3JYf_u-Vx9Jx",
        "outputId": "48074d05-a283-4470-fb52-dfe5fa5904bd",
        "colab": {
          "base_uri": "https://localhost:8080/",
          "height": 47
        }
      },
      "source": [
        "df_csv = pd.DataFrame(columns=['ano', 'receitas', 'despesas'])\n",
        "df_csv.head()"
      ],
      "execution_count": 29,
      "outputs": [
        {
          "output_type": "execute_result",
          "data": {
            "text/html": [
              "<div>\n",
              "<style scoped>\n",
              "    .dataframe tbody tr th:only-of-type {\n",
              "        vertical-align: middle;\n",
              "    }\n",
              "\n",
              "    .dataframe tbody tr th {\n",
              "        vertical-align: top;\n",
              "    }\n",
              "\n",
              "    .dataframe thead th {\n",
              "        text-align: right;\n",
              "    }\n",
              "</style>\n",
              "<table border=\"1\" class=\"dataframe\">\n",
              "  <thead>\n",
              "    <tr style=\"text-align: right;\">\n",
              "      <th></th>\n",
              "      <th>ano</th>\n",
              "      <th>receitas</th>\n",
              "      <th>despesas</th>\n",
              "    </tr>\n",
              "  </thead>\n",
              "  <tbody>\n",
              "  </tbody>\n",
              "</table>\n",
              "</div>"
            ],
            "text/plain": [
              "Empty DataFrame\n",
              "Columns: [ano, receitas, despesas]\n",
              "Index: []"
            ]
          },
          "metadata": {
            "tags": []
          },
          "execution_count": 29
        }
      ]
    },
    {
      "cell_type": "markdown",
      "metadata": {
        "id": "baAZhlg4ujRj"
      },
      "source": [
        "Validando lista de arquivos CSV"
      ]
    },
    {
      "cell_type": "code",
      "metadata": {
        "id": "0YmYyYHyQh3M",
        "outputId": "eb681741-cf6b-4a5d-bccc-0277c72aacae",
        "colab": {
          "base_uri": "https://localhost:8080/"
        }
      },
      "source": [
        "for file in arquivos_csv:\n",
        "\n",
        "    # Extraindo as 3 primeiras linha para validação\n",
        "    df_info = pd.read_csv(file, \n",
        "                          encoding='windows-1252', \n",
        "                          names=['coluna'], \n",
        "                          header=None, #header=3 pula as 3 primeiras linhas\n",
        "                          nrows=3,\n",
        "                          decimal=',')\n",
        "    \n",
        "    # Validando o CSV e extraindo informações das 3 primeiras linhas\n",
        "    if df_info.iloc[0]['coluna'].startswith(\"Exerc\"):\n",
        "        line_1 = df_info.iloc[0]['coluna']\n",
        "        line_3 = df_info.iloc[2]['coluna']\n",
        "        ano = int(''.join(filter(str.isdigit, line_1)))\n",
        "    else:\n",
        "        continue #Pula para o próxima iteração do for\n",
        "    \n",
        "    # Validando o CSV se é do tipo Despesa\n",
        "    if 'Despesas' in line_3:\n",
        "        if ano not in df_csv.ano.values:\n",
        "            df_csv = df_csv.append({'ano':ano, 'receitas':'a', 'despesas':file}, ignore_index=True)\n",
        "            #print('d1')\n",
        "        elif df_csv.loc[df_csv.ano == ano, 'despesas'].values == 'a':\n",
        "            df_csv.loc[df_csv.ano == ano, 'despesas'] = file\n",
        "            #print('d2')\n",
        "        else:\n",
        "            print('')\n",
        "        print('despesas ' + str(ano))\n",
        "    elif 'Receitas' in df_info.iloc[2]['coluna']:\n",
        "        if ano not in df_csv.ano.values:\n",
        "            df_csv = df_csv.append({'ano':ano, 'receitas':file, 'despesas':'a'}, ignore_index=True)\n",
        "            #print('r1')\n",
        "        elif df_csv.loc[df_csv.ano == ano, 'receitas'].values == 'a':\n",
        "            df_csv.loc[df_csv.ano == ano, 'receitas'] = file\n",
        "            #print('r2')\n",
        "        else:\n",
        "            print('')\n",
        "        print('receitas ' + str(ano))\n",
        "\n",
        "    print(file)"
      ],
      "execution_count": 30,
      "outputs": [
        {
          "output_type": "stream",
          "text": [
            "despesas 2019\n",
            "/content/gdrive/My Drive/dados_ISO/finbra-despesas-2019.csv\n",
            "receitas 2019\n",
            "/content/gdrive/My Drive/dados_ISO/finbra-receitas-2019.csv\n",
            "despesas 2018\n",
            "/content/gdrive/My Drive/dados_ISO/finbra-despesas-2018.csv\n",
            "despesas 2017\n",
            "/content/gdrive/My Drive/dados_ISO/finbra-despesas-2017.csv\n",
            "receitas 2017\n",
            "/content/gdrive/My Drive/dados_ISO/finbra-receitas-2017.csv\n",
            "receitas 2018\n",
            "/content/gdrive/My Drive/dados_ISO/finbra-receitas-2018.csv\n",
            "despesas 2016\n",
            "/content/gdrive/My Drive/dados_ISO/finbra-despesas-2016.csv\n",
            "receitas 2016\n",
            "/content/gdrive/My Drive/dados_ISO/finbra-receitas-2016.csv\n",
            "receitas 2015\n",
            "/content/gdrive/My Drive/dados_ISO/finbra-receitas-2015.csv\n",
            "despesas 2015\n",
            "/content/gdrive/My Drive/dados_ISO/finbra-despesas-2015.csv\n"
          ],
          "name": "stdout"
        }
      ]
    },
    {
      "cell_type": "markdown",
      "metadata": {
        "id": "YMdG6zpxu3P0"
      },
      "source": [
        "Listando os arquivos validados"
      ]
    },
    {
      "cell_type": "code",
      "metadata": {
        "id": "SQUh1B9um2NJ",
        "outputId": "a88aa50e-d1e8-4079-c290-92a233b15349",
        "colab": {
          "base_uri": "https://localhost:8080/",
          "height": 195
        }
      },
      "source": [
        "df_csv.head(50)"
      ],
      "execution_count": 31,
      "outputs": [
        {
          "output_type": "execute_result",
          "data": {
            "text/html": [
              "<div>\n",
              "<style scoped>\n",
              "    .dataframe tbody tr th:only-of-type {\n",
              "        vertical-align: middle;\n",
              "    }\n",
              "\n",
              "    .dataframe tbody tr th {\n",
              "        vertical-align: top;\n",
              "    }\n",
              "\n",
              "    .dataframe thead th {\n",
              "        text-align: right;\n",
              "    }\n",
              "</style>\n",
              "<table border=\"1\" class=\"dataframe\">\n",
              "  <thead>\n",
              "    <tr style=\"text-align: right;\">\n",
              "      <th></th>\n",
              "      <th>ano</th>\n",
              "      <th>receitas</th>\n",
              "      <th>despesas</th>\n",
              "    </tr>\n",
              "  </thead>\n",
              "  <tbody>\n",
              "    <tr>\n",
              "      <th>0</th>\n",
              "      <td>2019</td>\n",
              "      <td>/content/gdrive/My Drive/dados_ISO/finbra-rece...</td>\n",
              "      <td>/content/gdrive/My Drive/dados_ISO/finbra-desp...</td>\n",
              "    </tr>\n",
              "    <tr>\n",
              "      <th>1</th>\n",
              "      <td>2018</td>\n",
              "      <td>/content/gdrive/My Drive/dados_ISO/finbra-rece...</td>\n",
              "      <td>/content/gdrive/My Drive/dados_ISO/finbra-desp...</td>\n",
              "    </tr>\n",
              "    <tr>\n",
              "      <th>2</th>\n",
              "      <td>2017</td>\n",
              "      <td>/content/gdrive/My Drive/dados_ISO/finbra-rece...</td>\n",
              "      <td>/content/gdrive/My Drive/dados_ISO/finbra-desp...</td>\n",
              "    </tr>\n",
              "    <tr>\n",
              "      <th>3</th>\n",
              "      <td>2016</td>\n",
              "      <td>/content/gdrive/My Drive/dados_ISO/finbra-rece...</td>\n",
              "      <td>/content/gdrive/My Drive/dados_ISO/finbra-desp...</td>\n",
              "    </tr>\n",
              "    <tr>\n",
              "      <th>4</th>\n",
              "      <td>2015</td>\n",
              "      <td>/content/gdrive/My Drive/dados_ISO/finbra-rece...</td>\n",
              "      <td>/content/gdrive/My Drive/dados_ISO/finbra-desp...</td>\n",
              "    </tr>\n",
              "  </tbody>\n",
              "</table>\n",
              "</div>"
            ],
            "text/plain": [
              "    ano  ...                                           despesas\n",
              "0  2019  ...  /content/gdrive/My Drive/dados_ISO/finbra-desp...\n",
              "1  2018  ...  /content/gdrive/My Drive/dados_ISO/finbra-desp...\n",
              "2  2017  ...  /content/gdrive/My Drive/dados_ISO/finbra-desp...\n",
              "3  2016  ...  /content/gdrive/My Drive/dados_ISO/finbra-desp...\n",
              "4  2015  ...  /content/gdrive/My Drive/dados_ISO/finbra-desp...\n",
              "\n",
              "[5 rows x 3 columns]"
            ]
          },
          "metadata": {
            "tags": []
          },
          "execution_count": 31
        }
      ]
    },
    {
      "cell_type": "markdown",
      "metadata": {
        "id": "XeQMIbr9uxIy"
      },
      "source": [
        "Outros testes e verificações"
      ]
    },
    {
      "cell_type": "code",
      "metadata": {
        "id": "WM3rYvjJ2SJR"
      },
      "source": [
        "#df_csv.info()\n",
        "#df_csv.dtypes"
      ],
      "execution_count": 32,
      "outputs": []
    },
    {
      "cell_type": "markdown",
      "metadata": {
        "id": "JA1BDDCf6Chp"
      },
      "source": [
        "---\n",
        "#**Extração e Preparação**"
      ]
    },
    {
      "cell_type": "markdown",
      "metadata": {
        "id": "wh3baMi9jExr"
      },
      "source": [
        "###Parametrização"
      ]
    },
    {
      "cell_type": "code",
      "metadata": {
        "id": "v777nDzbjVDw"
      },
      "source": [
        "# código IBGE do municúpios\n",
        "cod_ibge                  = [4312401, #Montenegro\n",
        "                             4319901] #Sapiranga\n",
        "# Rubricas de Receitas\n",
        "cod_conta                 = ['3.0.00.00.00', \n",
        "                             '4.0.00.00.00', \n",
        "                             '4.4.00.00.00', \n",
        "                             '4.6.00.00.00']\n",
        "# Rubricas de Despesas, a partir de 2018\n",
        "cod_conta_receitas_maior  = ['1.0.0.0.00.0.0', \n",
        "                             '1.1.1.0.00.0.0', \n",
        "                             '1.7.0.0.00.0.0', \n",
        "                             '2.0.0.0.00.0.0', \n",
        "                             '2.4.0.0.00.0.0', \n",
        "                             '7.0.0.0.00.0.0']\n",
        "# Rubricas de Despesas, até 2017 (inclusive)\n",
        "cod_conta_receitas_menor  = ['1.0.0.0.00.00.00', \n",
        "                             '1.1.1.0.00.00.00', \n",
        "                             '1.7.0.0.00.00.00', \n",
        "                             '2.0.0.0.00.00.00', \n",
        "                             '2.4.0.0.00.00.00', \n",
        "                             '7.0.0.0.00.00.00']\n",
        "\n",
        "col_despesas              = ['municipio', 'cod_ibge', 'estado', 'populacao', 'tipo', 'conta', 'valor']\n",
        "df_anos_despesas          = None\n",
        "df_anos_receitas          = None\n",
        "df_iso                    = None"
      ],
      "execution_count": 33,
      "outputs": []
    },
    {
      "cell_type": "markdown",
      "metadata": {
        "id": "VbRkVyl3oXqG"
      },
      "source": [
        "###Execução"
      ]
    },
    {
      "cell_type": "code",
      "metadata": {
        "id": "n_Jer6EJ6C_W",
        "outputId": "432e7919-2f01-4a85-d159-0cae13c33abf",
        "colab": {
          "base_uri": "https://localhost:8080/"
        }
      },
      "source": [
        "i  = 0\n",
        "for ano in df_csv.ano:\n",
        "    i = i + 1\n",
        "    df_contas = None\n",
        "    df_contas_receitas = None\n",
        "    print(i)\n",
        "    #df_ano = df_csv.loc[[df_csv['ano'] == ano]\n",
        "    file_despesas = (df_csv.loc[df_csv.ano == ano, 'despesas']).values[0]\n",
        "    file_receitas = (df_csv.loc[df_csv.ano == ano, 'receitas']).values[0]\n",
        "\n",
        "    # ------------- Manipulando os arquivos de Despesas -------------\n",
        "    print(\"Iteração {}: Extraindo Dados do arquivo {}\".format(i, file_despesas))\n",
        "    df_temp = pd.read_csv(file_despesas, \n",
        "                          encoding='windows-1252', \n",
        "                          sep=';', \n",
        "                          names=col_despesas, \n",
        "                          header=3, #header=3 pula as 3 primeiras linhas\n",
        "                          decimal=',') \n",
        "    df_temp = pd.DataFrame(df_temp)\n",
        "    # filtrando a coluna tipo(Coluna) por 'Pagas'\n",
        "    df_temp = df_temp[df_temp['tipo'].str.contains('Pagas')]\n",
        "    # Filtrando os municípios pelo código do IBGE\n",
        "    df_temp = df_temp[df_temp['cod_ibge'].isin(cod_ibge)]\n",
        "    # Filtrando a coluna conta para aparecer apenas a numeração\n",
        "    df_temp['conta'] = df_temp['conta'].str[:12]\n",
        "    # Filtrando a coluna municipio para aparecer apenas o nome do município\n",
        "    df_temp['municipio'] = df_temp['municipio'].str[24:-4]\n",
        "    # Filtrando as contas pelos códigos de conta utilizados\n",
        "    df_temp = df_temp[df_temp['conta'].isin(cod_conta)]\n",
        "    # Apagando as colunas desnecessárias\n",
        "    df_temp.drop(['estado', 'populacao', 'tipo'], axis=1, inplace=True)\n",
        "    # Criando coluna para cada conta\n",
        "    for conta in cod_conta:\n",
        "        df_aux_1 = (df_temp[df_temp['conta'].str.contains(conta)]).sort_values('municipio')\n",
        "        df_aux_1 = pd.DataFrame(df_aux_1)\n",
        "        if df_contas is None:\n",
        "            #print(\"df_contas está vazia\")\n",
        "            df_aux_1.drop(['conta'], axis=1, inplace=True)\n",
        "            df_aux_1.rename(columns={'valor':'desp_{}'.format(conta)}, inplace=True)\n",
        "            df_aux_1['ano'] = ano\n",
        "            df_aux_1 = df_aux_1.reindex(['ano', 'municipio', 'cod_ibge', 'desp_{}'.format(conta)], axis=1)\n",
        "            df_contas = df_aux_1\n",
        "        else:\n",
        "            #print('passei aqui')\n",
        "            df_aux_1.drop(['municipio', 'conta'], axis=1, inplace=True)\n",
        "            df_aux_1.rename(columns={'valor':'desp_{}'.format(conta)}, inplace=True)\n",
        "            df_contas = pd.merge(df_contas, df_aux_1, how='left', on='cod_ibge')\n",
        "    # Juntando os arquivos(anos)\n",
        "    if df_anos_despesas is None:\n",
        "        #print('df_anos_despesas esta vazio')\n",
        "        df_anos_despesas = df_contas\n",
        "    else:\n",
        "        #print('aqui')\n",
        "        df_anos_despesas = pd.concat([df_anos_despesas, df_contas])\n",
        "\n",
        "    # ------------- Manipulando os arquivos de Receitas -------------\n",
        "    print(\"Iteração {}: Extraindo Dados do arquivo {}\".format(i, file_receitas))\n",
        "    df_temp = pd.read_csv(file_receitas, \n",
        "                          encoding='windows-1252', \n",
        "                          sep=';', \n",
        "                          names=col_despesas, \n",
        "                          header=3, #header=3 pula as 3 primeiras linhas\n",
        "                          decimal=',')\n",
        "    df_temp = pd.DataFrame(df_temp)\n",
        "    # filtrando a coluna tipo(Coluna) por 'Pagas'\n",
        "    df_temp = df_temp[df_temp['tipo'].str.contains('Receitas Brutas Realizadas')]\n",
        "    # Filtrando os municípios pelo código do IBGE\n",
        "    df_temp = df_temp[df_temp['cod_ibge'].isin(cod_ibge)]\n",
        "    # Filtrando a coluna conta para aparecer apenas a numeração\n",
        "    if ano > 2017:\n",
        "        #print('o ano de {} é maior que 2017'.format(ano))\n",
        "        df_temp['conta'] = df_temp['conta'].str[:14]\n",
        "    else:\n",
        "        #print('o ano de {} é menor ou igual a 2017'.format(ano))\n",
        "        df_temp['conta'] = df_temp['conta'].str[:16]\n",
        "    # Filtrando a coluna municipio para aparecer apenas o nome do município\n",
        "    df_temp['municipio'] = df_temp['municipio'].str[24:-4]\n",
        "    # Filtrando as contas pelos códigos de conta utilizados\n",
        "    if ano > 2017:\n",
        "        df_temp = df_temp[df_temp['conta'].isin(cod_conta_receitas_maior)]\n",
        "    else:\n",
        "        df_temp = df_temp[df_temp['conta'].isin(cod_conta_receitas_menor)]\n",
        "    # Apagando as colunas desnecessárias\n",
        "    df_temp.drop(['estado', 'populacao', 'tipo'], axis=1, inplace=True)\n",
        "    # Criando coluna para cada conta\n",
        "    contas = None\n",
        "    if ano > 2017:\n",
        "        contas = cod_conta_receitas_maior\n",
        "    else:\n",
        "        contas = cod_conta_receitas_menor\n",
        "    for conta in contas:\n",
        "        #print(conta)\n",
        "        #print(cod_conta_receitas_maior[contas.index(conta)])\n",
        "        #print(contas.index(conta))\n",
        "        df_aux_1 = (df_temp[df_temp['conta'].str.contains(conta)]).sort_values('municipio')\n",
        "        df_aux_1 = pd.DataFrame(df_aux_1)\n",
        "        if df_contas_receitas is None:\n",
        "            #print(\"df_contas_receitas está vazia\")\n",
        "            df_aux_1.drop(['conta'], axis=1, inplace=True)\n",
        "            if ano > 2017:\n",
        "                df_aux_1.rename(columns={'valor':'rec_{}'.format(conta)}, inplace=True)\n",
        "                df_aux_1['ano'] = ano\n",
        "                df_aux_1 = df_aux_1.reindex(['ano', 'municipio', 'cod_ibge', 'rec_{}'.format(conta)], axis=1)\n",
        "            else:\n",
        "                df_aux_1.rename(columns={'valor':'rec_{}'.format(cod_conta_receitas_maior[contas.index(conta)])}, inplace=True)\n",
        "                df_aux_1['ano'] = ano\n",
        "                df_aux_1 = df_aux_1.reindex(['ano', 'municipio', 'cod_ibge', 'rec_{}'.format(cod_conta_receitas_maior[contas.index(conta)])], axis=1)\n",
        "            df_contas_receitas = df_aux_1\n",
        "        else:\n",
        "            #print('passei aqui')\n",
        "            df_aux_1.drop(['municipio', 'conta'], axis=1, inplace=True)\n",
        "            if ano > 2017:\n",
        "                df_aux_1.rename(columns={'valor':'rec_{}'.format(conta)}, inplace=True)\n",
        "            else:\n",
        "                df_aux_1.rename(columns={'valor':'rec_{}'.format(cod_conta_receitas_maior[contas.index(conta)])}, inplace=True)\n",
        "            df_contas_receitas = pd.merge(df_contas_receitas, df_aux_1, how='left', on='cod_ibge')\n",
        "    # Juntando os arquivos(anos)\n",
        "    if df_anos_receitas is None:\n",
        "        #rint('df_anos_receitas esta vazio')\n",
        "        df_anos_receitas = df_contas_receitas\n",
        "    else:\n",
        "        #print('aqui')\n",
        "        df_anos_receitas = pd.concat([df_anos_receitas, df_contas_receitas])\n",
        "\n",
        "# Juntando e limpando o dataset\n",
        "df_anos_receitas.drop(['municipio'], axis=1, inplace=True)\n",
        "df_iso = pd.merge(df_anos_despesas, df_anos_receitas, how='left', on=['cod_ibge', 'ano'])\n",
        "df_iso.fillna(0, inplace=True)\n",
        "# Ordenando o dataset por Município e Ano\n",
        "df_iso.sort_values(['municipio', 'ano'], inplace=True, ignore_index=True)\n"
      ],
      "execution_count": 34,
      "outputs": [
        {
          "output_type": "stream",
          "text": [
            "1\n",
            "Iteração 1: Extraindo Dados do arquivo /content/gdrive/My Drive/dados_ISO/finbra-despesas-2019.csv\n",
            "Iteração 1: Extraindo Dados do arquivo /content/gdrive/My Drive/dados_ISO/finbra-receitas-2019.csv\n",
            "2\n",
            "Iteração 2: Extraindo Dados do arquivo /content/gdrive/My Drive/dados_ISO/finbra-despesas-2018.csv\n",
            "Iteração 2: Extraindo Dados do arquivo /content/gdrive/My Drive/dados_ISO/finbra-receitas-2018.csv\n",
            "3\n",
            "Iteração 3: Extraindo Dados do arquivo /content/gdrive/My Drive/dados_ISO/finbra-despesas-2017.csv\n",
            "Iteração 3: Extraindo Dados do arquivo /content/gdrive/My Drive/dados_ISO/finbra-receitas-2017.csv\n",
            "4\n",
            "Iteração 4: Extraindo Dados do arquivo /content/gdrive/My Drive/dados_ISO/finbra-despesas-2016.csv\n",
            "Iteração 4: Extraindo Dados do arquivo /content/gdrive/My Drive/dados_ISO/finbra-receitas-2016.csv\n",
            "5\n",
            "Iteração 5: Extraindo Dados do arquivo /content/gdrive/My Drive/dados_ISO/finbra-despesas-2015.csv\n",
            "Iteração 5: Extraindo Dados do arquivo /content/gdrive/My Drive/dados_ISO/finbra-receitas-2015.csv\n"
          ],
          "name": "stdout"
        }
      ]
    },
    {
      "cell_type": "markdown",
      "metadata": {
        "id": "baVCcK7-wYbm"
      },
      "source": [
        "Listando dados extraídos e preparados\n",
        "\n"
      ]
    },
    {
      "cell_type": "code",
      "metadata": {
        "id": "1L9dDK8W_Zpz",
        "outputId": "13fc5861-5eb8-44b9-c047-e2e5b207843e",
        "colab": {
          "base_uri": "https://localhost:8080/",
          "height": 363
        }
      },
      "source": [
        "df_iso.head(50)"
      ],
      "execution_count": 35,
      "outputs": [
        {
          "output_type": "execute_result",
          "data": {
            "text/html": [
              "<div>\n",
              "<style scoped>\n",
              "    .dataframe tbody tr th:only-of-type {\n",
              "        vertical-align: middle;\n",
              "    }\n",
              "\n",
              "    .dataframe tbody tr th {\n",
              "        vertical-align: top;\n",
              "    }\n",
              "\n",
              "    .dataframe thead th {\n",
              "        text-align: right;\n",
              "    }\n",
              "</style>\n",
              "<table border=\"1\" class=\"dataframe\">\n",
              "  <thead>\n",
              "    <tr style=\"text-align: right;\">\n",
              "      <th></th>\n",
              "      <th>ano</th>\n",
              "      <th>municipio</th>\n",
              "      <th>cod_ibge</th>\n",
              "      <th>desp_3.0.00.00.00</th>\n",
              "      <th>desp_4.0.00.00.00</th>\n",
              "      <th>desp_4.4.00.00.00</th>\n",
              "      <th>desp_4.6.00.00.00</th>\n",
              "      <th>rec_1.0.0.0.00.0.0</th>\n",
              "      <th>rec_1.1.1.0.00.0.0</th>\n",
              "      <th>rec_1.7.0.0.00.0.0</th>\n",
              "      <th>rec_2.0.0.0.00.0.0</th>\n",
              "      <th>rec_2.4.0.0.00.0.0</th>\n",
              "      <th>rec_7.0.0.0.00.0.0</th>\n",
              "    </tr>\n",
              "  </thead>\n",
              "  <tbody>\n",
              "    <tr>\n",
              "      <th>0</th>\n",
              "      <td>2015</td>\n",
              "      <td>Montenegro</td>\n",
              "      <td>4312401</td>\n",
              "      <td>148367665.39</td>\n",
              "      <td>14956771.04</td>\n",
              "      <td>12043277.48</td>\n",
              "      <td>2913493.56</td>\n",
              "      <td>192232559.32</td>\n",
              "      <td>21697321.05</td>\n",
              "      <td>125515763.04</td>\n",
              "      <td>2990012.06</td>\n",
              "      <td>875889.52</td>\n",
              "      <td>17176861.95</td>\n",
              "    </tr>\n",
              "    <tr>\n",
              "      <th>1</th>\n",
              "      <td>2016</td>\n",
              "      <td>Montenegro</td>\n",
              "      <td>4312401</td>\n",
              "      <td>173900061.67</td>\n",
              "      <td>8860556.18</td>\n",
              "      <td>6239229.85</td>\n",
              "      <td>2621326.33</td>\n",
              "      <td>225368462.45</td>\n",
              "      <td>24159519.35</td>\n",
              "      <td>141200523.75</td>\n",
              "      <td>6357025.34</td>\n",
              "      <td>5874395.82</td>\n",
              "      <td>24292741.91</td>\n",
              "    </tr>\n",
              "    <tr>\n",
              "      <th>2</th>\n",
              "      <td>2017</td>\n",
              "      <td>Montenegro</td>\n",
              "      <td>4312401</td>\n",
              "      <td>182010520.68</td>\n",
              "      <td>3648223.28</td>\n",
              "      <td>1503073.24</td>\n",
              "      <td>2145150.04</td>\n",
              "      <td>229035120.32</td>\n",
              "      <td>27384233.21</td>\n",
              "      <td>145080080.69</td>\n",
              "      <td>1875961.29</td>\n",
              "      <td>1697574.38</td>\n",
              "      <td>27220458.39</td>\n",
              "    </tr>\n",
              "    <tr>\n",
              "      <th>3</th>\n",
              "      <td>2018</td>\n",
              "      <td>Montenegro</td>\n",
              "      <td>4312401</td>\n",
              "      <td>199510220.94</td>\n",
              "      <td>6380653.06</td>\n",
              "      <td>4231294.77</td>\n",
              "      <td>2149358.29</td>\n",
              "      <td>243247154.84</td>\n",
              "      <td>34784349.07</td>\n",
              "      <td>153991030.66</td>\n",
              "      <td>1529162.76</td>\n",
              "      <td>1030133.97</td>\n",
              "      <td>28506006.57</td>\n",
              "    </tr>\n",
              "    <tr>\n",
              "      <th>4</th>\n",
              "      <td>2019</td>\n",
              "      <td>Montenegro</td>\n",
              "      <td>4312401</td>\n",
              "      <td>218276915.80</td>\n",
              "      <td>9805838.24</td>\n",
              "      <td>7068969.05</td>\n",
              "      <td>2501871.32</td>\n",
              "      <td>293123838.10</td>\n",
              "      <td>39772388.33</td>\n",
              "      <td>165782226.50</td>\n",
              "      <td>3674879.48</td>\n",
              "      <td>819487.14</td>\n",
              "      <td>12839727.76</td>\n",
              "    </tr>\n",
              "    <tr>\n",
              "      <th>5</th>\n",
              "      <td>2015</td>\n",
              "      <td>Sapiranga</td>\n",
              "      <td>4319901</td>\n",
              "      <td>139860998.18</td>\n",
              "      <td>8887788.20</td>\n",
              "      <td>6892539.14</td>\n",
              "      <td>1985249.06</td>\n",
              "      <td>185312413.76</td>\n",
              "      <td>19108075.03</td>\n",
              "      <td>129000102.67</td>\n",
              "      <td>8499157.92</td>\n",
              "      <td>4321042.32</td>\n",
              "      <td>8576580.45</td>\n",
              "    </tr>\n",
              "    <tr>\n",
              "      <th>6</th>\n",
              "      <td>2016</td>\n",
              "      <td>Sapiranga</td>\n",
              "      <td>4319901</td>\n",
              "      <td>151107479.69</td>\n",
              "      <td>32038136.29</td>\n",
              "      <td>29020634.09</td>\n",
              "      <td>3010375.20</td>\n",
              "      <td>213219122.74</td>\n",
              "      <td>21661101.31</td>\n",
              "      <td>141519695.16</td>\n",
              "      <td>30510830.98</td>\n",
              "      <td>11525815.97</td>\n",
              "      <td>8849920.67</td>\n",
              "    </tr>\n",
              "    <tr>\n",
              "      <th>7</th>\n",
              "      <td>2017</td>\n",
              "      <td>Sapiranga</td>\n",
              "      <td>4319901</td>\n",
              "      <td>165635407.80</td>\n",
              "      <td>19980410.44</td>\n",
              "      <td>16498896.60</td>\n",
              "      <td>3481513.84</td>\n",
              "      <td>218839748.87</td>\n",
              "      <td>24147780.13</td>\n",
              "      <td>148754131.10</td>\n",
              "      <td>12310960.80</td>\n",
              "      <td>8086396.24</td>\n",
              "      <td>11086803.19</td>\n",
              "    </tr>\n",
              "    <tr>\n",
              "      <th>8</th>\n",
              "      <td>2018</td>\n",
              "      <td>Sapiranga</td>\n",
              "      <td>4319901</td>\n",
              "      <td>177144567.88</td>\n",
              "      <td>13991509.66</td>\n",
              "      <td>9619876.78</td>\n",
              "      <td>4109844.04</td>\n",
              "      <td>214339766.61</td>\n",
              "      <td>29542250.21</td>\n",
              "      <td>164290134.28</td>\n",
              "      <td>12537368.23</td>\n",
              "      <td>7003682.10</td>\n",
              "      <td>12286543.44</td>\n",
              "    </tr>\n",
              "    <tr>\n",
              "      <th>9</th>\n",
              "      <td>2019</td>\n",
              "      <td>Sapiranga</td>\n",
              "      <td>4319901</td>\n",
              "      <td>191762476.20</td>\n",
              "      <td>20131917.87</td>\n",
              "      <td>15567112.24</td>\n",
              "      <td>4559805.63</td>\n",
              "      <td>229297799.30</td>\n",
              "      <td>34753430.70</td>\n",
              "      <td>172499322.40</td>\n",
              "      <td>13768309.52</td>\n",
              "      <td>7121983.45</td>\n",
              "      <td>14168361.02</td>\n",
              "    </tr>\n",
              "  </tbody>\n",
              "</table>\n",
              "</div>"
            ],
            "text/plain": [
              "    ano    municipio  ...  rec_2.4.0.0.00.0.0  rec_7.0.0.0.00.0.0\n",
              "0  2015  Montenegro   ...           875889.52         17176861.95\n",
              "1  2016  Montenegro   ...          5874395.82         24292741.91\n",
              "2  2017  Montenegro   ...          1697574.38         27220458.39\n",
              "3  2018  Montenegro   ...          1030133.97         28506006.57\n",
              "4  2019  Montenegro   ...           819487.14         12839727.76\n",
              "5  2015   Sapiranga   ...          4321042.32          8576580.45\n",
              "6  2016   Sapiranga   ...         11525815.97          8849920.67\n",
              "7  2017   Sapiranga   ...          8086396.24         11086803.19\n",
              "8  2018   Sapiranga   ...          7003682.10         12286543.44\n",
              "9  2019   Sapiranga   ...          7121983.45         14168361.02\n",
              "\n",
              "[10 rows x 13 columns]"
            ]
          },
          "metadata": {
            "tags": []
          },
          "execution_count": 35
        }
      ]
    },
    {
      "cell_type": "markdown",
      "metadata": {
        "id": "wSqHizBewsdO"
      },
      "source": [
        "Outros testes e verificações"
      ]
    },
    {
      "cell_type": "code",
      "metadata": {
        "id": "jFvIBbBMtN2S"
      },
      "source": [
        "#df_iso.head(50)\n",
        "#df_anos_despesas.head(50)\n",
        "#df_anos_receitas.head(50)\n",
        "#df_iso.dtypes"
      ],
      "execution_count": 36,
      "outputs": []
    },
    {
      "cell_type": "markdown",
      "metadata": {
        "id": "B1LCTzQVLGhJ"
      },
      "source": [
        "---\n",
        "#**Calculando os Indicadores**"
      ]
    },
    {
      "cell_type": "markdown",
      "metadata": {
        "id": "P-Zja_-emAmy"
      },
      "source": [
        "###Cálculos"
      ]
    },
    {
      "cell_type": "code",
      "metadata": {
        "id": "98buYvhKQ6xf"
      },
      "source": [
        "# Para recalcular os indicadores\n",
        "#df_iso.drop(['ind_9_1', 'ind_9_2','ind_9_3'], axis=1, inplace=True)"
      ],
      "execution_count": 37,
      "outputs": []
    },
    {
      "cell_type": "code",
      "metadata": {
        "id": "4za_NRI8LUJf"
      },
      "source": [
        "df_iso['ind_9_1'] = (df_iso['desp_4.6.00.00.00']) / (df_iso['rec_1.0.0.0.00.0.0'] +\n",
        "                                                     df_iso['rec_2.0.0.0.00.0.0'] +\n",
        "                                                     df_iso['rec_7.0.0.0.00.0.0'] -\n",
        "                                                     df_iso['rec_1.7.0.0.00.0.0'] -\n",
        "                                                     df_iso['rec_2.4.0.0.00.0.0']) * 100\n",
        "\n",
        "df_iso['ind_9_2'] = (df_iso['desp_4.4.00.00.00']) / (df_iso['desp_3.0.00.00.00'] +\n",
        "                                                     df_iso['desp_4.0.00.00.00']) * 100                              \n",
        "\n",
        "\n",
        "df_iso['ind_9_3'] = (df_iso['rec_1.0.0.0.00.0.0'] +\n",
        "                     df_iso['rec_2.0.0.0.00.0.0'] +\n",
        "                     df_iso['rec_7.0.0.0.00.0.0'] -\n",
        "                     df_iso['rec_1.7.0.0.00.0.0'] -\n",
        "                     df_iso['rec_2.4.0.0.00.0.0']) / (df_iso['rec_1.0.0.0.00.0.0'] +\n",
        "                                                      df_iso['rec_2.0.0.0.00.0.0'] +\n",
        "                                                      df_iso['rec_7.0.0.0.00.0.0']) * 100\n",
        "\n"
      ],
      "execution_count": 38,
      "outputs": []
    },
    {
      "cell_type": "code",
      "metadata": {
        "id": "rcJ-65J9bDX2",
        "outputId": "71dee852-be70-476d-afc0-5eb8c27f2c68",
        "colab": {
          "base_uri": "https://localhost:8080/",
          "height": 215
        }
      },
      "source": [
        "df_iso.head()"
      ],
      "execution_count": 39,
      "outputs": [
        {
          "output_type": "execute_result",
          "data": {
            "text/html": [
              "<div>\n",
              "<style scoped>\n",
              "    .dataframe tbody tr th:only-of-type {\n",
              "        vertical-align: middle;\n",
              "    }\n",
              "\n",
              "    .dataframe tbody tr th {\n",
              "        vertical-align: top;\n",
              "    }\n",
              "\n",
              "    .dataframe thead th {\n",
              "        text-align: right;\n",
              "    }\n",
              "</style>\n",
              "<table border=\"1\" class=\"dataframe\">\n",
              "  <thead>\n",
              "    <tr style=\"text-align: right;\">\n",
              "      <th></th>\n",
              "      <th>ano</th>\n",
              "      <th>municipio</th>\n",
              "      <th>cod_ibge</th>\n",
              "      <th>desp_3.0.00.00.00</th>\n",
              "      <th>desp_4.0.00.00.00</th>\n",
              "      <th>desp_4.4.00.00.00</th>\n",
              "      <th>desp_4.6.00.00.00</th>\n",
              "      <th>rec_1.0.0.0.00.0.0</th>\n",
              "      <th>rec_1.1.1.0.00.0.0</th>\n",
              "      <th>rec_1.7.0.0.00.0.0</th>\n",
              "      <th>rec_2.0.0.0.00.0.0</th>\n",
              "      <th>rec_2.4.0.0.00.0.0</th>\n",
              "      <th>rec_7.0.0.0.00.0.0</th>\n",
              "      <th>ind_9_1</th>\n",
              "      <th>ind_9_2</th>\n",
              "      <th>ind_9_3</th>\n",
              "    </tr>\n",
              "  </thead>\n",
              "  <tbody>\n",
              "    <tr>\n",
              "      <th>0</th>\n",
              "      <td>2015</td>\n",
              "      <td>Montenegro</td>\n",
              "      <td>4312401</td>\n",
              "      <td>148367665.39</td>\n",
              "      <td>14956771.04</td>\n",
              "      <td>12043277.48</td>\n",
              "      <td>2913493.56</td>\n",
              "      <td>192232559.32</td>\n",
              "      <td>21697321.05</td>\n",
              "      <td>125515763.04</td>\n",
              "      <td>2990012.06</td>\n",
              "      <td>875889.52</td>\n",
              "      <td>17176861.95</td>\n",
              "      <td>3.39</td>\n",
              "      <td>7.37</td>\n",
              "      <td>40.49</td>\n",
              "    </tr>\n",
              "    <tr>\n",
              "      <th>1</th>\n",
              "      <td>2016</td>\n",
              "      <td>Montenegro</td>\n",
              "      <td>4312401</td>\n",
              "      <td>173900061.67</td>\n",
              "      <td>8860556.18</td>\n",
              "      <td>6239229.85</td>\n",
              "      <td>2621326.33</td>\n",
              "      <td>225368462.45</td>\n",
              "      <td>24159519.35</td>\n",
              "      <td>141200523.75</td>\n",
              "      <td>6357025.34</td>\n",
              "      <td>5874395.82</td>\n",
              "      <td>24292741.91</td>\n",
              "      <td>2.41</td>\n",
              "      <td>3.41</td>\n",
              "      <td>42.55</td>\n",
              "    </tr>\n",
              "    <tr>\n",
              "      <th>2</th>\n",
              "      <td>2017</td>\n",
              "      <td>Montenegro</td>\n",
              "      <td>4312401</td>\n",
              "      <td>182010520.68</td>\n",
              "      <td>3648223.28</td>\n",
              "      <td>1503073.24</td>\n",
              "      <td>2145150.04</td>\n",
              "      <td>229035120.32</td>\n",
              "      <td>27384233.21</td>\n",
              "      <td>145080080.69</td>\n",
              "      <td>1875961.29</td>\n",
              "      <td>1697574.38</td>\n",
              "      <td>27220458.39</td>\n",
              "      <td>1.93</td>\n",
              "      <td>0.81</td>\n",
              "      <td>43.14</td>\n",
              "    </tr>\n",
              "    <tr>\n",
              "      <th>3</th>\n",
              "      <td>2018</td>\n",
              "      <td>Montenegro</td>\n",
              "      <td>4312401</td>\n",
              "      <td>199510220.94</td>\n",
              "      <td>6380653.06</td>\n",
              "      <td>4231294.77</td>\n",
              "      <td>2149358.29</td>\n",
              "      <td>243247154.84</td>\n",
              "      <td>34784349.07</td>\n",
              "      <td>153991030.66</td>\n",
              "      <td>1529162.76</td>\n",
              "      <td>1030133.97</td>\n",
              "      <td>28506006.57</td>\n",
              "      <td>1.82</td>\n",
              "      <td>2.06</td>\n",
              "      <td>43.27</td>\n",
              "    </tr>\n",
              "    <tr>\n",
              "      <th>4</th>\n",
              "      <td>2019</td>\n",
              "      <td>Montenegro</td>\n",
              "      <td>4312401</td>\n",
              "      <td>218276915.80</td>\n",
              "      <td>9805838.24</td>\n",
              "      <td>7068969.05</td>\n",
              "      <td>2501871.32</td>\n",
              "      <td>293123838.10</td>\n",
              "      <td>39772388.33</td>\n",
              "      <td>165782226.50</td>\n",
              "      <td>3674879.48</td>\n",
              "      <td>819487.14</td>\n",
              "      <td>12839727.76</td>\n",
              "      <td>1.75</td>\n",
              "      <td>3.10</td>\n",
              "      <td>46.19</td>\n",
              "    </tr>\n",
              "  </tbody>\n",
              "</table>\n",
              "</div>"
            ],
            "text/plain": [
              "    ano    municipio  cod_ibge  ...  ind_9_1  ind_9_2  ind_9_3\n",
              "0  2015  Montenegro    4312401  ...     3.39     7.37    40.49\n",
              "1  2016  Montenegro    4312401  ...     2.41     3.41    42.55\n",
              "2  2017  Montenegro    4312401  ...     1.93     0.81    43.14\n",
              "3  2018  Montenegro    4312401  ...     1.82     2.06    43.27\n",
              "4  2019  Montenegro    4312401  ...     1.75     3.10    46.19\n",
              "\n",
              "[5 rows x 16 columns]"
            ]
          },
          "metadata": {
            "tags": []
          },
          "execution_count": 39
        }
      ]
    },
    {
      "cell_type": "code",
      "metadata": {
        "id": "oYwiPO6hQybq",
        "outputId": "1a3998da-d3b6-43b7-dd39-95e587bbff43",
        "colab": {
          "base_uri": "https://localhost:8080/",
          "height": 195
        }
      },
      "source": [
        "df_iso_ind = (df_iso[['ano', 'municipio', 'ind_9_1', 'ind_9_2', 'ind_9_3']]).sort_values(['municipio', 'ano'])\n",
        "df_iso_ind.head()"
      ],
      "execution_count": 40,
      "outputs": [
        {
          "output_type": "execute_result",
          "data": {
            "text/html": [
              "<div>\n",
              "<style scoped>\n",
              "    .dataframe tbody tr th:only-of-type {\n",
              "        vertical-align: middle;\n",
              "    }\n",
              "\n",
              "    .dataframe tbody tr th {\n",
              "        vertical-align: top;\n",
              "    }\n",
              "\n",
              "    .dataframe thead th {\n",
              "        text-align: right;\n",
              "    }\n",
              "</style>\n",
              "<table border=\"1\" class=\"dataframe\">\n",
              "  <thead>\n",
              "    <tr style=\"text-align: right;\">\n",
              "      <th></th>\n",
              "      <th>ano</th>\n",
              "      <th>municipio</th>\n",
              "      <th>ind_9_1</th>\n",
              "      <th>ind_9_2</th>\n",
              "      <th>ind_9_3</th>\n",
              "    </tr>\n",
              "  </thead>\n",
              "  <tbody>\n",
              "    <tr>\n",
              "      <th>0</th>\n",
              "      <td>2015</td>\n",
              "      <td>Montenegro</td>\n",
              "      <td>3.39</td>\n",
              "      <td>7.37</td>\n",
              "      <td>40.49</td>\n",
              "    </tr>\n",
              "    <tr>\n",
              "      <th>1</th>\n",
              "      <td>2016</td>\n",
              "      <td>Montenegro</td>\n",
              "      <td>2.41</td>\n",
              "      <td>3.41</td>\n",
              "      <td>42.55</td>\n",
              "    </tr>\n",
              "    <tr>\n",
              "      <th>2</th>\n",
              "      <td>2017</td>\n",
              "      <td>Montenegro</td>\n",
              "      <td>1.93</td>\n",
              "      <td>0.81</td>\n",
              "      <td>43.14</td>\n",
              "    </tr>\n",
              "    <tr>\n",
              "      <th>3</th>\n",
              "      <td>2018</td>\n",
              "      <td>Montenegro</td>\n",
              "      <td>1.82</td>\n",
              "      <td>2.06</td>\n",
              "      <td>43.27</td>\n",
              "    </tr>\n",
              "    <tr>\n",
              "      <th>4</th>\n",
              "      <td>2019</td>\n",
              "      <td>Montenegro</td>\n",
              "      <td>1.75</td>\n",
              "      <td>3.10</td>\n",
              "      <td>46.19</td>\n",
              "    </tr>\n",
              "  </tbody>\n",
              "</table>\n",
              "</div>"
            ],
            "text/plain": [
              "    ano    municipio  ind_9_1  ind_9_2  ind_9_3\n",
              "0  2015  Montenegro      3.39     7.37    40.49\n",
              "1  2016  Montenegro      2.41     3.41    42.55\n",
              "2  2017  Montenegro      1.93     0.81    43.14\n",
              "3  2018  Montenegro      1.82     2.06    43.27\n",
              "4  2019  Montenegro      1.75     3.10    46.19"
            ]
          },
          "metadata": {
            "tags": []
          },
          "execution_count": 40
        }
      ]
    },
    {
      "cell_type": "code",
      "metadata": {
        "id": "54YE4NN5wDyN"
      },
      "source": [
        "# Gerando arquivo CVS para utilização no Power BI\n",
        "df_iso_ind.to_csv ('/content/gdrive/My Drive/dados_ISO/indicadores_iso.csv', sep=\";\", index=False, decimal=',')"
      ],
      "execution_count": 41,
      "outputs": []
    },
    {
      "cell_type": "markdown",
      "metadata": {
        "id": "byNy9hEOmLAD"
      },
      "source": [
        "###Gráfico - Indicador 9.1"
      ]
    },
    {
      "cell_type": "code",
      "metadata": {
        "id": "y0fQQ94Knc1B",
        "outputId": "269f7f19-8e87-48d3-d597-2cbf852a8165",
        "colab": {
          "base_uri": "https://localhost:8080/",
          "height": 195
        }
      },
      "source": [
        "df_mont = df_iso[df_iso.municipio.str.contains('Montenegro')]\n",
        "df_mont = df_mont[['ano', 'ind_9_1']]\n",
        "df_mont.rename(columns={'ind_9_1':'Montenegro'}, inplace=True)\n",
        "\n",
        "df_sap  = df_iso[df_iso.municipio.str.contains('Sapiranga')]\n",
        "df_sap = df_sap[['ano', 'ind_9_1']]\n",
        "df_sap.rename(columns={'ind_9_1':'Sapiranga'}, inplace=True)\n",
        "\n",
        "df_ind = pd.merge(df_mont, df_sap, how='left', on='ano')\n",
        "\n",
        "df_ind.head()\n"
      ],
      "execution_count": 42,
      "outputs": [
        {
          "output_type": "execute_result",
          "data": {
            "text/html": [
              "<div>\n",
              "<style scoped>\n",
              "    .dataframe tbody tr th:only-of-type {\n",
              "        vertical-align: middle;\n",
              "    }\n",
              "\n",
              "    .dataframe tbody tr th {\n",
              "        vertical-align: top;\n",
              "    }\n",
              "\n",
              "    .dataframe thead th {\n",
              "        text-align: right;\n",
              "    }\n",
              "</style>\n",
              "<table border=\"1\" class=\"dataframe\">\n",
              "  <thead>\n",
              "    <tr style=\"text-align: right;\">\n",
              "      <th></th>\n",
              "      <th>ano</th>\n",
              "      <th>Montenegro</th>\n",
              "      <th>Sapiranga</th>\n",
              "    </tr>\n",
              "  </thead>\n",
              "  <tbody>\n",
              "    <tr>\n",
              "      <th>0</th>\n",
              "      <td>2015</td>\n",
              "      <td>3.39</td>\n",
              "      <td>2.87</td>\n",
              "    </tr>\n",
              "    <tr>\n",
              "      <th>1</th>\n",
              "      <td>2016</td>\n",
              "      <td>2.41</td>\n",
              "      <td>3.02</td>\n",
              "    </tr>\n",
              "    <tr>\n",
              "      <th>2</th>\n",
              "      <td>2017</td>\n",
              "      <td>1.93</td>\n",
              "      <td>4.08</td>\n",
              "    </tr>\n",
              "    <tr>\n",
              "      <th>3</th>\n",
              "      <td>2018</td>\n",
              "      <td>1.82</td>\n",
              "      <td>6.06</td>\n",
              "    </tr>\n",
              "    <tr>\n",
              "      <th>4</th>\n",
              "      <td>2019</td>\n",
              "      <td>1.75</td>\n",
              "      <td>5.88</td>\n",
              "    </tr>\n",
              "  </tbody>\n",
              "</table>\n",
              "</div>"
            ],
            "text/plain": [
              "    ano  Montenegro  Sapiranga\n",
              "0  2015        3.39       2.87\n",
              "1  2016        2.41       3.02\n",
              "2  2017        1.93       4.08\n",
              "3  2018        1.82       6.06\n",
              "4  2019        1.75       5.88"
            ]
          },
          "metadata": {
            "tags": []
          },
          "execution_count": 42
        }
      ]
    },
    {
      "cell_type": "code",
      "metadata": {
        "id": "hhWBny6YkTm6",
        "outputId": "ddaffe33-c125-4a67-88fb-bbbccfe2a82b",
        "colab": {
          "base_uri": "https://localhost:8080/",
          "height": 336
        }
      },
      "source": [
        "ax = df_ind.plot(x='ano',\n",
        "                 y=['Montenegro', 'Sapiranga'],\n",
        "                 title='Taxa de Endividamento (9.1)',\n",
        "                 colormap='jet',\n",
        "                 marker='o',\n",
        "                 xticks=df_mont.ano.values,\n",
        "                 figsize=(8, 5) )\n",
        "ax.set(yticklabels=['{:.0f}%'.format(x) for x in ax.get_yticks()], \n",
        "       xlabel=None)\n",
        "ax.get_figure().savefig('/content/gdrive/My Drive/dados_ISO/grafico_ind_9_1.png', \n",
        "                        dpi=300,\n",
        "                        bbox_inches='tight')"
      ],
      "execution_count": 43,
      "outputs": [
        {
          "output_type": "display_data",
          "data": {
            "image/png": "[encoded data removed]",
            "text/plain": [
              "<Figure size 576x360 with 1 Axes>"
            ]
          },
          "metadata": {
            "tags": [],
            "needs_background": "light"
          }
        }
      ]
    },
    {
      "cell_type": "markdown",
      "metadata": {
        "id": "XIt1ylMNOpyX"
      },
      "source": [
        "###Gráfico - Indicador 9.2"
      ]
    },
    {
      "cell_type": "code",
      "metadata": {
        "id": "CM32HMrYOrtM",
        "outputId": "89ef3585-73f3-41c5-90d6-c9f4e51bc83f",
        "colab": {
          "base_uri": "https://localhost:8080/",
          "height": 195
        }
      },
      "source": [
        "df_mont = df_iso[df_iso.municipio.str.contains('Montenegro')]\n",
        "df_mont = df_mont[['ano', 'ind_9_2']]\n",
        "df_mont.rename(columns={'ind_9_2':'Montenegro'}, inplace=True)\n",
        "\n",
        "df_sap  = df_iso[df_iso.municipio.str.contains('Sapiranga')]\n",
        "df_sap = df_sap[['ano', 'ind_9_2']]\n",
        "df_sap.rename(columns={'ind_9_2':'Sapiranga'}, inplace=True)\n",
        "\n",
        "df_ind = pd.merge(df_mont, df_sap, how='left', on='ano')\n",
        "\n",
        "df_ind.head()"
      ],
      "execution_count": 44,
      "outputs": [
        {
          "output_type": "execute_result",
          "data": {
            "text/html": [
              "<div>\n",
              "<style scoped>\n",
              "    .dataframe tbody tr th:only-of-type {\n",
              "        vertical-align: middle;\n",
              "    }\n",
              "\n",
              "    .dataframe tbody tr th {\n",
              "        vertical-align: top;\n",
              "    }\n",
              "\n",
              "    .dataframe thead th {\n",
              "        text-align: right;\n",
              "    }\n",
              "</style>\n",
              "<table border=\"1\" class=\"dataframe\">\n",
              "  <thead>\n",
              "    <tr style=\"text-align: right;\">\n",
              "      <th></th>\n",
              "      <th>ano</th>\n",
              "      <th>Montenegro</th>\n",
              "      <th>Sapiranga</th>\n",
              "    </tr>\n",
              "  </thead>\n",
              "  <tbody>\n",
              "    <tr>\n",
              "      <th>0</th>\n",
              "      <td>2015</td>\n",
              "      <td>7.37</td>\n",
              "      <td>4.63</td>\n",
              "    </tr>\n",
              "    <tr>\n",
              "      <th>1</th>\n",
              "      <td>2016</td>\n",
              "      <td>3.41</td>\n",
              "      <td>15.85</td>\n",
              "    </tr>\n",
              "    <tr>\n",
              "      <th>2</th>\n",
              "      <td>2017</td>\n",
              "      <td>0.81</td>\n",
              "      <td>8.89</td>\n",
              "    </tr>\n",
              "    <tr>\n",
              "      <th>3</th>\n",
              "      <td>2018</td>\n",
              "      <td>2.06</td>\n",
              "      <td>5.03</td>\n",
              "    </tr>\n",
              "    <tr>\n",
              "      <th>4</th>\n",
              "      <td>2019</td>\n",
              "      <td>3.10</td>\n",
              "      <td>7.35</td>\n",
              "    </tr>\n",
              "  </tbody>\n",
              "</table>\n",
              "</div>"
            ],
            "text/plain": [
              "    ano  Montenegro  Sapiranga\n",
              "0  2015        7.37       4.63\n",
              "1  2016        3.41      15.85\n",
              "2  2017        0.81       8.89\n",
              "3  2018        2.06       5.03\n",
              "4  2019        3.10       7.35"
            ]
          },
          "metadata": {
            "tags": []
          },
          "execution_count": 44
        }
      ]
    },
    {
      "cell_type": "code",
      "metadata": {
        "id": "BfOwnya6O9ls",
        "outputId": "cc9097a6-b0b3-46a3-9e17-8501b4f39d44",
        "colab": {
          "base_uri": "https://localhost:8080/",
          "height": 336
        }
      },
      "source": [
        "ax = df_ind.plot(x='ano',\n",
        "                 y=['Montenegro', 'Sapiranga'],\n",
        "                 title='Despesas de Capital como Porcentagem de Despesas Totais (9.2)',\n",
        "                 colormap='jet',\n",
        "                 marker='o',\n",
        "                 xticks=df_mont.ano.values,\n",
        "                 figsize=(8, 5) )\n",
        "ax.set(yticklabels=['{:.0f}%'.format(x) for x in ax.get_yticks()], \n",
        "       xlabel=None)\n",
        "ax.get_figure().savefig('/content/gdrive/My Drive/dados_ISO/grafico_ind_9_2.png', \n",
        "                        dpi=300,\n",
        "                        bbox_inches='tight')"
      ],
      "execution_count": 45,
      "outputs": [
        {
          "output_type": "display_data",
          "data": {
            "image/png": "[encoded data removed]",
            "text/plain": [
              "<Figure size 576x360 with 1 Axes>"
            ]
          },
          "metadata": {
            "tags": [],
            "needs_background": "light"
          }
        }
      ]
    },
    {
      "cell_type": "markdown",
      "metadata": {
        "id": "PpXH-nISPent"
      },
      "source": [
        "###Gráfico - Indicador 9.3"
      ]
    },
    {
      "cell_type": "code",
      "metadata": {
        "id": "Lg3KUn6PPh-s",
        "outputId": "b4c88bbf-f8e0-4bbf-e045-cb11c54e20c6",
        "colab": {
          "base_uri": "https://localhost:8080/",
          "height": 195
        }
      },
      "source": [
        "df_mont = df_iso[df_iso.municipio.str.contains('Montenegro')]\n",
        "df_mont = df_mont[['ano', 'ind_9_3']]\n",
        "df_mont.rename(columns={'ind_9_3':'Montenegro'}, inplace=True)\n",
        "\n",
        "df_sap  = df_iso[df_iso.municipio.str.contains('Sapiranga')]\n",
        "df_sap = df_sap[['ano', 'ind_9_3']]\n",
        "df_sap.rename(columns={'ind_9_3':'Sapiranga'}, inplace=True)\n",
        "\n",
        "df_ind = pd.merge(df_mont, df_sap, how='left', on='ano')\n",
        "\n",
        "df_ind.head()"
      ],
      "execution_count": 46,
      "outputs": [
        {
          "output_type": "execute_result",
          "data": {
            "text/html": [
              "<div>\n",
              "<style scoped>\n",
              "    .dataframe tbody tr th:only-of-type {\n",
              "        vertical-align: middle;\n",
              "    }\n",
              "\n",
              "    .dataframe tbody tr th {\n",
              "        vertical-align: top;\n",
              "    }\n",
              "\n",
              "    .dataframe thead th {\n",
              "        text-align: right;\n",
              "    }\n",
              "</style>\n",
              "<table border=\"1\" class=\"dataframe\">\n",
              "  <thead>\n",
              "    <tr style=\"text-align: right;\">\n",
              "      <th></th>\n",
              "      <th>ano</th>\n",
              "      <th>Montenegro</th>\n",
              "      <th>Sapiranga</th>\n",
              "    </tr>\n",
              "  </thead>\n",
              "  <tbody>\n",
              "    <tr>\n",
              "      <th>0</th>\n",
              "      <td>2015</td>\n",
              "      <td>40.49</td>\n",
              "      <td>34.13</td>\n",
              "    </tr>\n",
              "    <tr>\n",
              "      <th>1</th>\n",
              "      <td>2016</td>\n",
              "      <td>42.55</td>\n",
              "      <td>39.41</td>\n",
              "    </tr>\n",
              "    <tr>\n",
              "      <th>2</th>\n",
              "      <td>2017</td>\n",
              "      <td>43.14</td>\n",
              "      <td>35.25</td>\n",
              "    </tr>\n",
              "    <tr>\n",
              "      <th>3</th>\n",
              "      <td>2018</td>\n",
              "      <td>43.27</td>\n",
              "      <td>28.38</td>\n",
              "    </tr>\n",
              "    <tr>\n",
              "      <th>4</th>\n",
              "      <td>2019</td>\n",
              "      <td>46.19</td>\n",
              "      <td>30.17</td>\n",
              "    </tr>\n",
              "  </tbody>\n",
              "</table>\n",
              "</div>"
            ],
            "text/plain": [
              "    ano  Montenegro  Sapiranga\n",
              "0  2015       40.49      34.13\n",
              "1  2016       42.55      39.41\n",
              "2  2017       43.14      35.25\n",
              "3  2018       43.27      28.38\n",
              "4  2019       46.19      30.17"
            ]
          },
          "metadata": {
            "tags": []
          },
          "execution_count": 46
        }
      ]
    },
    {
      "cell_type": "code",
      "metadata": {
        "id": "O0gECghuPiOc",
        "outputId": "def1c6cc-ac3b-409d-9789-5210d21c83d5",
        "colab": {
          "base_uri": "https://localhost:8080/",
          "height": 336
        }
      },
      "source": [
        "ax = df_ind.plot(x='ano',\n",
        "                 y=['Montenegro', 'Sapiranga'],\n",
        "                 title='Porcentagem da Receita Própria em Função do Total das Receitas (9.3)',\n",
        "                 colormap='jet',\n",
        "                 marker='o',\n",
        "                 xticks=df_mont.ano.values,\n",
        "                 figsize=(8, 5) )\n",
        "ax.set(yticklabels=['{:.0f}%'.format(x) for x in ax.get_yticks()], \n",
        "       xlabel=None)\n",
        "ax.get_figure().savefig('/content/gdrive/My Drive/dados_ISO/grafico_ind_9_3.png', \n",
        "                        dpi=300,\n",
        "                        bbox_inches='tight')"
      ],
      "execution_count": 47,
      "outputs": [
        {
          "output_type": "display_data",
          "data": {
            "image/png": "[encoded data removed]",
            "text/plain": [
              "<Figure size 576x360 with 1 Axes>"
            ]
          },
          "metadata": {
            "tags": [],
            "needs_background": "light"
          }
        }
      ]
    }
  ]
}